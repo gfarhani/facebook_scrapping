{
 "cells": [
  {
   "cell_type": "markdown",
   "metadata": {},
   "source": [
    "** This is the explanation of how we can generate a permanent token; I have an admin access to the facebook page I am trying to scarpe the comments from\n",
    "Steps I took are listed here:\n",
    "1) Go to https://developers.facebook.com/ and make an APP\n",
    "You need to generate a short lived user token for the app; in Graph API Explorer under the \"User Token\" bar find \"Get User access token\": the generated token is your short token which will expire in about an hour. \n",
    "2) Navigate in the main page (developer page) and under setting icon (on the left bar) click on basics: you can find your APP ID and App secret.\n",
    "3) Run the code below, so that you will have a long lived token which has expiry day of about 2 months **"
   ]
  },
  {
   "cell_type": "code",
   "execution_count": null,
   "metadata": {},
   "outputs": [],
   "source": [
    "# make a long lived token\n",
    "import requests\n",
    "\n",
    "app_id = 'your app id'\n",
    "app_secret = 'your app secret'\n",
    "user_short_token = 'your short token'\n",
    "access_token_url = \"https://graph.facebook.com/oauth/access_token?grant_type=fb_exchange_token&client_id={}&client_secret={}&fb_exchange_token={}\".format(app_id, app_secret, user_short_token)\n",
    "\n",
    "r = requests.get(access_token_url)\n",
    "\n",
    "access_token_info = r.json()\n",
    "user_long_token = access_token_info['access_token']\n",
    "\n",
    "print(access_token_info)\n",
    "\n"
   ]
  },
  {
   "cell_type": "markdown",
   "metadata": {},
   "source": [
    "**Now you need to have a permanent token: follow the next to cells **"
   ]
  },
  {
   "cell_type": "code",
   "execution_count": null,
   "metadata": {},
   "outputs": [],
   "source": [
    "import facebook\n",
    "\n",
    "graph = facebook.GraphAPI(access_token=user_long_token,version=\"2.8\")"
   ]
  },
  {
   "cell_type": "code",
   "execution_count": null,
   "metadata": {},
   "outputs": [],
   "source": [
    "# permanent token\n",
    "pages_data = graph.get_object(\"/me/accounts\")\n",
    "\n",
    "print(pages_data)"
   ]
  },
  {
   "cell_type": "markdown",
   "metadata": {},
   "source": [
    "**Running the above cell you will get access to data related to any page that you are its admin. For each page there exsists a page_id; for that page_id you can print the permanent page_token and save it for your self. So that you dont need to repeat the above commands any more!**"
   ]
  },
  {
   "cell_type": "code",
   "execution_count": null,
   "metadata": {},
   "outputs": [],
   "source": [
    "page_id = 'your page id'\n",
    "page_token = None\n",
    "\n",
    "for item in pages_data['data']:\n",
    "    if item['id'] == page_id:\n",
    "        page_token = item['access_token']\n",
    "\n",
    "# this is the permanent page token :D\n",
    "print(page_token)"
   ]
  },
  {
   "cell_type": "code",
   "execution_count": null,
   "metadata": {},
   "outputs": [],
   "source": [
    "graph = facebook.GraphAPI(access_token=page_token,version=\"2.8\")\n",
    "\n",
    "print(graph.get_object(id=page_id, fields='about, category'))\n",
    "\n"
   ]
  },
  {
   "cell_type": "code",
   "execution_count": null,
   "metadata": {},
   "outputs": [],
   "source": [
    "page_impressions = graph.get_connections(id=page_id,\n",
    "                                         connection_name='insights',\n",
    "                                         metric='page_impressions',\n",
    "                                         date_preset='yesterday',\n",
    "                                         period='week',\n",
    "                                         show_description_from_api_doc=True)\n",
    "print(page_impressions)"
   ]
  },
  {
   "cell_type": "code",
   "execution_count": null,
   "metadata": {},
   "outputs": [],
   "source": [
    "some_info = graph.get_object(id=page_id, fields='about, website')\n",
    "print(some_info)"
   ]
  },
  {
   "cell_type": "markdown",
   "metadata": {},
   "source": [
    "**Using \"graph.get_object\" you can get access to the last 25 posts which are posted in the facebook page; each post has an id, a message( which is the title of the post), and the posting time. \n",
    "Here, in a list (post_ids) I append all the post ids for my self. Later, I will use this list to access the comments realted to each post. I make another list to append all the titles (masseges) for each post. And, finally, I make a dictionary connecting each id to its raled title. **"
   ]
  },
  {
   "cell_type": "code",
   "execution_count": null,
   "metadata": {},
   "outputs": [],
   "source": [
    "posts = graph.get_object(id=page_id, fields='posts')\n",
    "\n",
    "# post_1 = posts['posts']['data'][0]\n",
    "# post_2 = posts['posts']['data'][1]"
   ]
  },
  {
   "cell_type": "code",
   "execution_count": null,
   "metadata": {},
   "outputs": [],
   "source": [
    "posts_ids = []\n",
    "for i in range(len(posts['posts']['data'])):\n",
    "    posts_ids.append(posts['posts']['data'][i]['id'])\n"
   ]
  },
  {
   "cell_type": "code",
   "execution_count": null,
   "metadata": {},
   "outputs": [],
   "source": [
    "posts_msges = []\n",
    "for i in range(len(posts['posts']['data'])):\n",
    "    posts_msges.append(posts['posts']['data'][i]['message'])"
   ]
  },
  {
   "cell_type": "code",
   "execution_count": null,
   "metadata": {},
   "outputs": [],
   "source": [
    "list_needed = dict(zip(posts_ids, posts_msges ))"
   ]
  },
  {
   "cell_type": "markdown",
   "metadata": {},
   "source": [
    "**Now, for all posts (25 total post) I append the commnets into one large list. **"
   ]
  },
  {
   "cell_type": "code",
   "execution_count": null,
   "metadata": {},
   "outputs": [],
   "source": [
    "list_new = []\n",
    "for i in posts_id:\n",
    "    list_new.append(graph.get_connections(id= i ,connection_name='comments', limit = 1000,include_hidden = True, order ='reverse_chronological'\n",
    "                                        ,filter ='stream', summary ='total_count'))\n",
    "    \n",
    "   "
   ]
  },
  {
   "cell_type": "code",
   "execution_count": null,
   "metadata": {},
   "outputs": [],
   "source": []
  }
 ],
 "metadata": {
  "kernelspec": {
   "display_name": "Python 3",
   "language": "python",
   "name": "python3"
  },
  "language_info": {
   "codemirror_mode": {
    "name": "ipython",
    "version": 3
   },
   "file_extension": ".py",
   "mimetype": "text/x-python",
   "name": "python",
   "nbconvert_exporter": "python",
   "pygments_lexer": "ipython3",
   "version": "3.6.4"
  }
 },
 "nbformat": 4,
 "nbformat_minor": 2
}
