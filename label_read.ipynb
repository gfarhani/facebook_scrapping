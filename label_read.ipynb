{
 "cells": [
  {
   "cell_type": "raw",
   "metadata": {},
   "source": [
    "This code helps you to get a file in manifest format and make it a csv file. I am using Mechanical Turkey at AWS to do some labeling for our facebook post commnets; to be used for the training. \n",
    "The output format is in manifest and I want it to be saved in the format of csv. "
   ]
  },
  {
   "cell_type": "code",
   "execution_count": 33,
   "metadata": {},
   "outputs": [],
   "source": [
    "#output-3.json\n",
    "import json\n",
    "import pandas as pd\n",
    "\n",
    "#json.load(open(\"output-3.manifest\"))\n",
    "labels = []\n",
    "for line in open('output-March16.manifest', 'r'):\n",
    "    labels.append(json.loads(line))\n"
   ]
  },
  {
   "cell_type": "code",
   "execution_count": 34,
   "metadata": {},
   "outputs": [],
   "source": [
    "dic = labels[0]\n",
    "label = list(dic.keys())[-1]\n",
    "comment = list(dic.keys())[0]"
   ]
  },
  {
   "cell_type": "code",
   "execution_count": 35,
   "metadata": {},
   "outputs": [],
   "source": [
    "human_label = labels[1][label]['class-name']\n",
    "human_conffidence = labels[1][label]['confidence']"
   ]
  },
  {
   "cell_type": "code",
   "execution_count": 36,
   "metadata": {},
   "outputs": [],
   "source": [
    "comment_to_label = labels[1][comment]"
   ]
  },
  {
   "cell_type": "code",
   "execution_count": 37,
   "metadata": {},
   "outputs": [],
   "source": [
    "human_label = []\n",
    "human_conffidence = []\n",
    "comment_to_label = []\n",
    "for i in range(len(labels)):\n",
    "    dic = labels[i]\n",
    "    label = (list(dic.keys())[-1])\n",
    "    comment = (list(dic.keys())[0])\n",
    "    human_label.append(labels[i][label]['class-name'])\n",
    "    human_conffidence.append(labels[i][label]['confidence'])\n",
    "    comment_to_label.append(labels[i][comment])"
   ]
  },
  {
   "cell_type": "code",
   "execution_count": 38,
   "metadata": {},
   "outputs": [],
   "source": [
    "df1 = pd.DataFrame({'comment':comment_to_label})\n",
    "df2 = pd.DataFrame({'label':human_label})\n",
    "df3 = pd.DataFrame({'conffidence':human_conffidence})\n"
   ]
  },
  {
   "cell_type": "code",
   "execution_count": 39,
   "metadata": {},
   "outputs": [],
   "source": [
    "frame = pd.concat([df1, df2, df3], axis=1)\n"
   ]
  },
  {
   "cell_type": "code",
   "execution_count": 40,
   "metadata": {},
   "outputs": [],
   "source": [
    "true_labels = frame[frame.conffidence>.5]"
   ]
  },
  {
   "cell_type": "code",
   "execution_count": 41,
   "metadata": {},
   "outputs": [],
   "source": [
    "true_labels = true_labels.reset_index(drop=True)"
   ]
  },
  {
   "cell_type": "code",
   "execution_count": 42,
   "metadata": {},
   "outputs": [
    {
     "data": {
      "text/html": [
       "<div>\n",
       "<style scoped>\n",
       "    .dataframe tbody tr th:only-of-type {\n",
       "        vertical-align: middle;\n",
       "    }\n",
       "\n",
       "    .dataframe tbody tr th {\n",
       "        vertical-align: top;\n",
       "    }\n",
       "\n",
       "    .dataframe thead th {\n",
       "        text-align: right;\n",
       "    }\n",
       "</style>\n",
       "<table border=\"1\" class=\"dataframe\">\n",
       "  <thead>\n",
       "    <tr style=\"text-align: right;\">\n",
       "      <th></th>\n",
       "      <th>comment</th>\n",
       "      <th>label</th>\n",
       "      <th>conffidence</th>\n",
       "    </tr>\n",
       "  </thead>\n",
       "  <tbody>\n",
       "    <tr>\n",
       "      <th>0</th>\n",
       "      <td>col</td>\n",
       "      <td>I cannot tell</td>\n",
       "      <td>0.94</td>\n",
       "    </tr>\n",
       "    <tr>\n",
       "      <th>1</th>\n",
       "      <td>Susan Keegan Simpson</td>\n",
       "      <td>I cannot tell</td>\n",
       "      <td>0.95</td>\n",
       "    </tr>\n",
       "    <tr>\n",
       "      <th>2</th>\n",
       "      <td>Pitiful response to an emergency.</td>\n",
       "      <td>angry</td>\n",
       "      <td>0.53</td>\n",
       "    </tr>\n",
       "    <tr>\n",
       "      <th>3</th>\n",
       "      <td>Take Example From Africa..please..</td>\n",
       "      <td>worried</td>\n",
       "      <td>0.94</td>\n",
       "    </tr>\n",
       "    <tr>\n",
       "      <th>4</th>\n",
       "      <td>just ask the chicommies for compensation since...</td>\n",
       "      <td>angry</td>\n",
       "      <td>0.95</td>\n",
       "    </tr>\n",
       "    <tr>\n",
       "      <th>...</th>\n",
       "      <td>...</td>\n",
       "      <td>...</td>\n",
       "      <td>...</td>\n",
       "    </tr>\n",
       "    <tr>\n",
       "      <th>480</th>\n",
       "      <td>Rob Randall Cuz no one can figure that out as ...</td>\n",
       "      <td>worried</td>\n",
       "      <td>0.93</td>\n",
       "    </tr>\n",
       "    <tr>\n",
       "      <th>481</th>\n",
       "      <td>\"Yet Canada doesn't even have screening at our...</td>\n",
       "      <td>angry</td>\n",
       "      <td>0.54</td>\n",
       "    </tr>\n",
       "    <tr>\n",
       "      <th>482</th>\n",
       "      <td>George Taylor bombardier is a lost cause. They...</td>\n",
       "      <td>disgusted</td>\n",
       "      <td>0.83</td>\n",
       "    </tr>\n",
       "    <tr>\n",
       "      <th>483</th>\n",
       "      <td>Rob Randall Yes cuz everyone wouldnt adhere to...</td>\n",
       "      <td>disgusted</td>\n",
       "      <td>0.94</td>\n",
       "    </tr>\n",
       "    <tr>\n",
       "      <th>484</th>\n",
       "      <td>Finally an article that put the correct headli...</td>\n",
       "      <td>happy</td>\n",
       "      <td>0.90</td>\n",
       "    </tr>\n",
       "  </tbody>\n",
       "</table>\n",
       "<p>485 rows × 3 columns</p>\n",
       "</div>"
      ],
      "text/plain": [
       "                                               comment          label  \\\n",
       "0                                                  col  I cannot tell   \n",
       "1                                 Susan Keegan Simpson  I cannot tell   \n",
       "2                    Pitiful response to an emergency.          angry   \n",
       "3                   Take Example From Africa..please..        worried   \n",
       "4    just ask the chicommies for compensation since...          angry   \n",
       "..                                                 ...            ...   \n",
       "480  Rob Randall Cuz no one can figure that out as ...        worried   \n",
       "481  \"Yet Canada doesn't even have screening at our...          angry   \n",
       "482  George Taylor bombardier is a lost cause. They...      disgusted   \n",
       "483  Rob Randall Yes cuz everyone wouldnt adhere to...      disgusted   \n",
       "484  Finally an article that put the correct headli...          happy   \n",
       "\n",
       "     conffidence  \n",
       "0           0.94  \n",
       "1           0.95  \n",
       "2           0.53  \n",
       "3           0.94  \n",
       "4           0.95  \n",
       "..           ...  \n",
       "480         0.93  \n",
       "481         0.54  \n",
       "482         0.83  \n",
       "483         0.94  \n",
       "484         0.90  \n",
       "\n",
       "[485 rows x 3 columns]"
      ]
     },
     "execution_count": 42,
     "metadata": {},
     "output_type": "execute_result"
    }
   ],
   "source": [
    "true_labels"
   ]
  },
  {
   "cell_type": "code",
   "execution_count": 43,
   "metadata": {},
   "outputs": [],
   "source": [
    "true_labels.to_csv(\"labels_March16.csv\")"
   ]
  },
  {
   "cell_type": "code",
   "execution_count": null,
   "metadata": {},
   "outputs": [],
   "source": []
  }
 ],
 "metadata": {
  "kernelspec": {
   "display_name": "Python 3",
   "language": "python",
   "name": "python3"
  },
  "language_info": {
   "codemirror_mode": {
    "name": "ipython",
    "version": 3
   },
   "file_extension": ".py",
   "mimetype": "text/x-python",
   "name": "python",
   "nbconvert_exporter": "python",
   "pygments_lexer": "ipython3",
   "version": "3.6.4"
  }
 },
 "nbformat": 4,
 "nbformat_minor": 2
}
